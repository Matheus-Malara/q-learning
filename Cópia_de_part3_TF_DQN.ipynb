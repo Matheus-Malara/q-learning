{
  "nbformat": 4,
  "nbformat_minor": 0,
  "metadata": {
    "colab": {
      "provenance": [],
      "include_colab_link": true
    },
    "kernelspec": {
      "name": "python3",
      "display_name": "Python 3"
    },
    "accelerator": "GPU"
  },
  "cells": [
    {
      "cell_type": "markdown",
      "metadata": {
        "id": "view-in-github",
        "colab_type": "text"
      },
      "source": [
        "<a href=\"https://colab.research.google.com/github/Matheus-Malara/q-learning/blob/main/C%C3%B3pia_de_part3_TF_DQN.ipynb\" target=\"_parent\"><img src=\"https://colab.research.google.com/assets/colab-badge.svg\" alt=\"Open In Colab\"/></a>"
      ]
    },
    {
      "cell_type": "markdown",
      "metadata": {
        "id": "rMG8qMK9OY6r"
      },
      "source": [
        "# Install Dependecies to Render OpenAI Gym Environment"
      ]
    },
    {
      "cell_type": "code",
      "metadata": {
        "id": "OvvBAoQVJsuU"
      },
      "source": [
        "# Run this asap since it takes 30 seconds.\n",
        "%%capture\n",
        "!apt-get update\n",
        "!pip install pyglet\n",
        "!pip install gym pyvirtualdisplay\n",
        "!pip install xvfbwrapper\n",
        "!apt-get install -y xvfb python-opengl ffmpeg\n",
        "!pip install tensorflow==2.1.*\n",
        "import gym\n",
        "from gym.wrappers import Monitor\n",
        "from collections import deque\n",
        "import tensorflow as tf\n",
        "import numpy as np\n",
        "import random\n",
        "import math\n",
        "import time\n",
        "import glob\n",
        "import io\n",
        "import base64\n",
        "from IPython.display import HTML\n",
        "from IPython import display as ipythondisplay\n",
        "from pyvirtualdisplay import Display\n",
        "display = Display(visible=0, size=(1400, 900))\n",
        "display.start()"
      ],
      "execution_count": null,
      "outputs": []
    },
    {
      "cell_type": "markdown",
      "metadata": {
        "id": "Ob-AUEpDO8MR"
      },
      "source": [
        "# Build DQN Agent and Helper Functions"
      ]
    },
    {
      "cell_type": "code",
      "metadata": {
        "id": "rxOHU5VsU7JB",
        "outputId": "117ec0c1-eaf9-4902-b13b-abe9d71724f1",
        "colab": {
          "base_uri": "https://localhost:8080/",
          "height": 51
        }
      },
      "source": [
        "# Load gym environment and get action and state spaces.\n",
        "env = gym.make('CartPole-v0')\n",
        "num_features = env.observation_space.shape[0]\n",
        "num_actions = env.action_space.n\n",
        "print('Number of state features: {}'.format(num_features))\n",
        "print('Number of possible actions: {}'.format(num_actions))"
      ],
      "execution_count": null,
      "outputs": [
        {
          "output_type": "stream",
          "text": [
            "Number of state features: 4\n",
            "Number of possible actions: 2\n"
          ],
          "name": "stdout"
        }
      ]
    },
    {
      "cell_type": "code",
      "metadata": {
        "id": "yBjdd9KfFLml"
      },
      "source": [
        "class DQN(tf.keras.Model):\n",
        "  \"\"\"Dense neural network class.\"\"\"\n",
        "  def __init__(self):\n",
        "    super(DQN, self).__init__()\n",
        "    self.dense1 = tf.keras.layers.Dense(32, activation=\"relu\")\n",
        "    self.dense2 = tf.keras.layers.Dense(32, activation=\"relu\")\n",
        "    self.dense3 = tf.keras.layers.Dense(num_actions, dtype=tf.float32) # No activation\n",
        "\n",
        "  def call(self, x):\n",
        "    \"\"\"Forward pass.\"\"\"\n",
        "    x = self.dense1(x)\n",
        "    x = self.dense2(x)\n",
        "    return self.dense3(x)\n",
        "\n",
        "main_nn = DQN()\n",
        "target_nn = DQN()\n",
        "\n",
        "optimizer = tf.keras.optimizers.Adam(1e-4)\n",
        "mse = tf.keras.losses.MeanSquaredError()"
      ],
      "execution_count": null,
      "outputs": []
    },
    {
      "cell_type": "code",
      "metadata": {
        "id": "oL6H4DhWP5p1"
      },
      "source": [
        "class ReplayBuffer(object):\n",
        "  \"\"\"Experience replay buffer that samples uniformly.\"\"\"\n",
        "  def __init__(self, size):\n",
        "    self.buffer = deque(maxlen=size)\n",
        "\n",
        "  def add(self, state, action, reward, next_state, done):\n",
        "    self.buffer.append((state, action, reward, next_state, done))\n",
        "\n",
        "  def __len__(self):\n",
        "    return len(self.buffer)\n",
        "\n",
        "  def sample(self, num_samples):\n",
        "    states, actions, rewards, next_states, dones = [], [], [], [], []\n",
        "    idx = np.random.choice(len(self.buffer), num_samples)\n",
        "    for i in idx:\n",
        "      elem = self.buffer[i]\n",
        "      state, action, reward, next_state, done = elem\n",
        "      states.append(np.array(state, copy=False))\n",
        "      actions.append(np.array(action, copy=False))\n",
        "      rewards.append(reward)\n",
        "      next_states.append(np.array(next_state, copy=False))\n",
        "      dones.append(done)\n",
        "    states = np.array(states)\n",
        "    actions = np.array(actions)\n",
        "    rewards = np.array(rewards, dtype=np.float32)\n",
        "    next_states = np.array(next_states)\n",
        "    dones = np.array(dones, dtype=np.float32)\n",
        "    return states, actions, rewards, next_states, dones"
      ],
      "execution_count": null,
      "outputs": []
    },
    {
      "cell_type": "code",
      "metadata": {
        "id": "Q-jC9-cgWPyu"
      },
      "source": [
        "def select_epsilon_greedy_action(state, epsilon):\n",
        "  \"\"\"Take random action with probability epsilon, else take best action.\"\"\"\n",
        "  result = tf.random.uniform((1,))\n",
        "  if result < epsilon:\n",
        "    return env.action_space.sample() # Random action (left or right).\n",
        "  else:\n",
        "    return tf.argmax(main_nn(state)[0]).numpy() # Greedy action for state."
      ],
      "execution_count": null,
      "outputs": []
    },
    {
      "cell_type": "code",
      "metadata": {
        "id": "mxjof_YfRFaN"
      },
      "source": [
        "@tf.function\n",
        "def train_step(states, actions, rewards, next_states, dones):\n",
        "  \"\"\"Perform a training iteration on a batch of data sampled from the experience\n",
        "  replay buffer.\"\"\"\n",
        "  # Calculate targets.\n",
        "  next_qs = target_nn(next_states)\n",
        "  max_next_qs = tf.reduce_max(next_qs, axis=-1)\n",
        "  target = rewards + (1. - dones) * discount * max_next_qs\n",
        "  with tf.GradientTape() as tape:\n",
        "    qs = main_nn(states)\n",
        "    action_masks = tf.one_hot(actions, num_actions)\n",
        "    masked_qs = tf.reduce_sum(action_masks * qs, axis=-1)\n",
        "    loss = mse(target, masked_qs)\n",
        "  grads = tape.gradient(loss, main_nn.trainable_variables)\n",
        "  optimizer.apply_gradients(zip(grads, main_nn.trainable_variables))\n",
        "  return loss"
      ],
      "execution_count": null,
      "outputs": []
    },
    {
      "cell_type": "markdown",
      "metadata": {
        "id": "Dk4gbIkIAkq9"
      },
      "source": [
        "# Start running the DQN algorithm and see how the algorithm learns."
      ]
    },
    {
      "cell_type": "code",
      "metadata": {
        "id": "HdBCQEGNcVnV",
        "outputId": "d191f374-1f1b-48ee-a7f1-332515880911",
        "colab": {
          "base_uri": "https://localhost:8080/",
          "height": 374
        }
      },
      "source": [
        "# Hyperparameters.\n",
        "num_episodes = 1000\n",
        "epsilon = 1.0\n",
        "batch_size = 32\n",
        "discount = 0.99\n",
        "buffer = ReplayBuffer(100000)\n",
        "cur_frame = 0\n",
        "\n",
        "# Start training. Play game once and then train with a batch.\n",
        "last_100_ep_rewards = []\n",
        "for episode in range(num_episodes+1):\n",
        "  state = env.reset()\n",
        "  ep_reward, done = 0, False\n",
        "  while not done:\n",
        "    state_in = tf.expand_dims(state, axis=0)\n",
        "    action = select_epsilon_greedy_action(state_in, epsilon)\n",
        "    next_state, reward, done, info = env.step(action)\n",
        "    ep_reward += reward\n",
        "    # Save to experience replay.\n",
        "    buffer.add(state, action, reward, next_state, done)\n",
        "    state = next_state\n",
        "    cur_frame += 1\n",
        "    # Copy main_nn weights to target_nn.\n",
        "    if cur_frame % 2000 == 0:\n",
        "      target_nn.set_weights(main_nn.get_weights())\n",
        "\n",
        "    # Train neural network.\n",
        "    if len(buffer) >= batch_size:\n",
        "      states, actions, rewards, next_states, dones = buffer.sample(batch_size)\n",
        "      loss = train_step(states, actions, rewards, next_states, dones)\n",
        "\n",
        "  if episode < 950:\n",
        "    epsilon -= 0.001\n",
        "\n",
        "  if len(last_100_ep_rewards) == 100:\n",
        "    last_100_ep_rewards = last_100_ep_rewards[1:]\n",
        "  last_100_ep_rewards.append(ep_reward)\n",
        "\n",
        "  if episode % 50 == 0:\n",
        "    print(f'Episode {episode}/{num_episodes}. Epsilon: {epsilon:.3f}. '\n",
        "          f'Reward in last 100 episodes: {np.mean(last_100_ep_rewards):.3f}')\n",
        "env.close()"
      ],
      "execution_count": null,
      "outputs": [
        {
          "output_type": "stream",
          "text": [
            "Episode 0/1000. Epsilon: 0.999. Reward in last 100 episodes: 14.000\n",
            "Episode 50/1000. Epsilon: 0.949. Reward in last 100 episodes: 22.294\n",
            "Episode 100/1000. Epsilon: 0.899. Reward in last 100 episodes: 23.310\n",
            "Episode 150/1000. Epsilon: 0.849. Reward in last 100 episodes: 23.410\n",
            "Episode 200/1000. Epsilon: 0.799. Reward in last 100 episodes: 24.990\n",
            "Episode 250/1000. Epsilon: 0.749. Reward in last 100 episodes: 30.490\n",
            "Episode 300/1000. Epsilon: 0.699. Reward in last 100 episodes: 38.400\n",
            "Episode 350/1000. Epsilon: 0.649. Reward in last 100 episodes: 51.480\n",
            "Episode 400/1000. Epsilon: 0.599. Reward in last 100 episodes: 68.280\n",
            "Episode 450/1000. Epsilon: 0.549. Reward in last 100 episodes: 82.460\n",
            "Episode 500/1000. Epsilon: 0.499. Reward in last 100 episodes: 102.170\n",
            "Episode 550/1000. Epsilon: 0.449. Reward in last 100 episodes: 129.740\n",
            "Episode 600/1000. Epsilon: 0.399. Reward in last 100 episodes: 151.740\n",
            "Episode 650/1000. Epsilon: 0.349. Reward in last 100 episodes: 173.020\n",
            "Episode 700/1000. Epsilon: 0.299. Reward in last 100 episodes: 187.310\n",
            "Episode 750/1000. Epsilon: 0.249. Reward in last 100 episodes: 190.960\n",
            "Episode 800/1000. Epsilon: 0.199. Reward in last 100 episodes: 194.600\n",
            "Episode 850/1000. Epsilon: 0.149. Reward in last 100 episodes: 195.980\n",
            "Episode 900/1000. Epsilon: 0.099. Reward in last 100 episodes: 197.970\n",
            "Episode 950/1000. Epsilon: 0.050. Reward in last 100 episodes: 200.000\n",
            "Episode 1000/1000. Epsilon: 0.050. Reward in last 100 episodes: 200.000\n"
          ],
          "name": "stdout"
        }
      ]
    },
    {
      "cell_type": "markdown",
      "metadata": {
        "id": "AxzxGYh_OmQg"
      },
      "source": [
        "# Display Result of Trained DQN Agent on Cartpole Environment"
      ]
    },
    {
      "cell_type": "code",
      "metadata": {
        "id": "Z8sEgVgvM2OQ"
      },
      "source": [
        "def show_video():\n",
        "  \"\"\"Enables video recording of gym environment and shows it.\"\"\"\n",
        "  mp4list = glob.glob('video/*.mp4')\n",
        "  if len(mp4list) > 0:\n",
        "    mp4 = mp4list[0]\n",
        "    video = io.open(mp4, 'r+b').read()\n",
        "    encoded = base64.b64encode(video)\n",
        "    ipythondisplay.display(HTML(data='''<video alt=\"test\" autoplay\n",
        "                loop controls style=\"height: 400px;\">\n",
        "                <source src=\"data:video/mp4;base64,{0}\" type=\"video/mp4\" />\n",
        "             </video>'''.format(encoded.decode('ascii'))))\n",
        "  else:\n",
        "    print(\"Video not found\")\n",
        "\n",
        "\n",
        "def wrap_env(env):\n",
        "  env = Monitor(env, './video', force=True)\n",
        "  return env"
      ],
      "execution_count": null,
      "outputs": []
    },
    {
      "cell_type": "code",
      "metadata": {
        "id": "2XelFhSJGWGX",
        "outputId": "f024f4e3-3c08-455f-94fd-28512d1737dc",
        "colab": {
          "base_uri": "https://localhost:8080/",
          "height": 438
        }
      },
      "source": [
        "env = wrap_env(gym.make('CartPole-v0'))\n",
        "state = env.reset()\n",
        "done = False\n",
        "ep_rew = 0\n",
        "while not done:\n",
        "  env.render()\n",
        "  state = tf.expand_dims(state, axis=0)\n",
        "  action = select_epsilon_greedy_action(state, epsilon=0.01)\n",
        "  state, reward, done, info = env.step(action)\n",
        "  ep_rew += reward\n",
        "print('Episode reward was {}'.format(ep_rew))\n",
        "env.close()\n",
        "show_video()"
      ],
      "execution_count": null,
      "outputs": [
        {
          "output_type": "stream",
          "text": [
            "Episode reward was 200.0\n"
          ],
          "name": "stdout"
        },
        {
          "output_type": "display_data",
          "data": {
            "text/html": [
              "<video alt=\"test\" autoplay \n",
              "                loop controls style=\"height: 400px;\">\n",
              "                <source src=\"data:video/mp4;base64,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\" type=\"video/mp4\" />\n",
              "             </video>"
            ],
            "text/plain": [
              "<IPython.core.display.HTML object>"
            ]
          },
          "metadata": {
            "tags": []
          }
        }
      ]
    },
    {
      "cell_type": "code",
      "metadata": {
        "id": "VCN_31YJtekB"
      },
      "source": [],
      "execution_count": null,
      "outputs": []
    }
  ]
}